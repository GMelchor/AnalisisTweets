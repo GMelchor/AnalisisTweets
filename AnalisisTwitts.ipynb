{
 "cells": [
  {
   "cell_type": "markdown",
   "id": "c4ed7ba5",
   "metadata": {},
   "source": [
    "\n",
    "METAHEURISTICA \n",
    "\n",
    "\n",
    "    Autor: GABRIEL MELCHOR CAMPOS\n",
    "    "
   ]
  },
  {
   "cell_type": "markdown",
   "id": "7ccd92cd",
   "metadata": {},
   "source": [
    "Lectura el dataset"
   ]
  },
  {
   "cell_type": "code",
   "execution_count": 1,
   "id": "70146f15",
   "metadata": {},
   "outputs": [],
   "source": [
    "import pandas as pd\n",
    "import re\n",
    "import random\n",
    "from unicodedata import normalize\n",
    "from nltk.corpus import stopwords\n",
    "from nltk import word_tokenize\n",
    "from gensim.models import Word2Vec\n",
    "import numpy as np\n",
    "import time\n",
    "from multiprocessing import Pool"
   ]
  },
  {
   "cell_type": "code",
   "execution_count": 2,
   "id": "b89f01dd",
   "metadata": {},
   "outputs": [
    {
     "data": {
      "text/html": [
       "<div>\n",
       "<style scoped>\n",
       "    .dataframe tbody tr th:only-of-type {\n",
       "        vertical-align: middle;\n",
       "    }\n",
       "\n",
       "    .dataframe tbody tr th {\n",
       "        vertical-align: top;\n",
       "    }\n",
       "\n",
       "    .dataframe thead th {\n",
       "        text-align: right;\n",
       "    }\n",
       "</style>\n",
       "<table border=\"1\" class=\"dataframe\">\n",
       "  <thead>\n",
       "    <tr style=\"text-align: right;\">\n",
       "      <th></th>\n",
       "      <th>Unnamed: 0</th>\n",
       "      <th>text</th>\n",
       "      <th>class</th>\n",
       "    </tr>\n",
       "  </thead>\n",
       "  <tbody>\n",
       "    <tr>\n",
       "      <th>0</th>\n",
       "      <td>2</td>\n",
       "      <td>Ex Wife Threatening SuicideRecently I left my ...</td>\n",
       "      <td>suicide</td>\n",
       "    </tr>\n",
       "    <tr>\n",
       "      <th>1</th>\n",
       "      <td>3</td>\n",
       "      <td>Am I weird I don't get affected by compliments...</td>\n",
       "      <td>non-suicide</td>\n",
       "    </tr>\n",
       "    <tr>\n",
       "      <th>2</th>\n",
       "      <td>4</td>\n",
       "      <td>Finally 2020 is almost over... So I can never ...</td>\n",
       "      <td>non-suicide</td>\n",
       "    </tr>\n",
       "    <tr>\n",
       "      <th>3</th>\n",
       "      <td>8</td>\n",
       "      <td>i need helpjust help me im crying so hard</td>\n",
       "      <td>suicide</td>\n",
       "    </tr>\n",
       "    <tr>\n",
       "      <th>4</th>\n",
       "      <td>9</td>\n",
       "      <td>I’m so lostHello, my name is Adam (16) and I’v...</td>\n",
       "      <td>suicide</td>\n",
       "    </tr>\n",
       "    <tr>\n",
       "      <th>5</th>\n",
       "      <td>11</td>\n",
       "      <td>Honetly idkI dont know what im even doing here...</td>\n",
       "      <td>suicide</td>\n",
       "    </tr>\n",
       "    <tr>\n",
       "      <th>6</th>\n",
       "      <td>12</td>\n",
       "      <td>[Trigger warning] Excuse for self inflicted bu...</td>\n",
       "      <td>suicide</td>\n",
       "    </tr>\n",
       "    <tr>\n",
       "      <th>7</th>\n",
       "      <td>13</td>\n",
       "      <td>It ends tonight.I can’t do it anymore. \\nI quit.</td>\n",
       "      <td>suicide</td>\n",
       "    </tr>\n",
       "    <tr>\n",
       "      <th>8</th>\n",
       "      <td>16</td>\n",
       "      <td>Everyone wants to be \"edgy\" and it's making me...</td>\n",
       "      <td>non-suicide</td>\n",
       "    </tr>\n",
       "    <tr>\n",
       "      <th>9</th>\n",
       "      <td>18</td>\n",
       "      <td>My life is over at 20 years oldHello all. I am...</td>\n",
       "      <td>suicide</td>\n",
       "    </tr>\n",
       "  </tbody>\n",
       "</table>\n",
       "</div>"
      ],
      "text/plain": [
       "   Unnamed: 0                                               text        class\n",
       "0           2  Ex Wife Threatening SuicideRecently I left my ...      suicide\n",
       "1           3  Am I weird I don't get affected by compliments...  non-suicide\n",
       "2           4  Finally 2020 is almost over... So I can never ...  non-suicide\n",
       "3           8          i need helpjust help me im crying so hard      suicide\n",
       "4           9  I’m so lostHello, my name is Adam (16) and I’v...      suicide\n",
       "5          11  Honetly idkI dont know what im even doing here...      suicide\n",
       "6          12  [Trigger warning] Excuse for self inflicted bu...      suicide\n",
       "7          13   It ends tonight.I can’t do it anymore. \\nI quit.      suicide\n",
       "8          16  Everyone wants to be \"edgy\" and it's making me...  non-suicide\n",
       "9          18  My life is over at 20 years oldHello all. I am...      suicide"
      ]
     },
     "execution_count": 2,
     "metadata": {},
     "output_type": "execute_result"
    }
   ],
   "source": [
    "#Importamos pandas\n",
    "import pandas as pd\n",
    "#Leemos el dataset\n",
    "df = pd.read_csv('Suicide_Detection.csv')\n",
    "#Mostramos las primeras filas\n",
    "df.head(10)"
   ]
  },
  {
   "cell_type": "markdown",
   "id": "0942dd46",
   "metadata": {},
   "source": [
    "Limpieza de datos"
   ]
  },
  {
   "cell_type": "code",
   "execution_count": 3,
   "id": "97715801",
   "metadata": {},
   "outputs": [],
   "source": [
    "#Funcion auxiliar de limpieza\n",
    "import re\n",
    "def Limpiador(text):\n",
    "    # Remover tags de html\n",
    "    text = re.sub('<[^<]*>','',text)\n",
    "    \n",
    "    # Almacenar temporalmente los emoticons\n",
    "    emoticons = ''.join(re.findall('[:;=]-+[\\)\\(pPD]+',text))\n",
    "    \n",
    "    # Elimine los caracteres que no son palabras y combinar los emoticones\n",
    "    text = re.sub('\\W+',' ',text.lower()) + emoticons.replace('-','')\n",
    "    \n",
    "    return text"
   ]
  },
  {
   "cell_type": "code",
   "execution_count": 4,
   "id": "75c46ce6",
   "metadata": {},
   "outputs": [],
   "source": [
    "#Funcion para remover emojis\n",
    "def RemoverEmoji(text):\n",
    "    emoji_pattern = re.compile(\"[\"\n",
    "                           u\"\\U0001F600-\\U0001F64F\"  # emoticons\n",
    "                           u\"\\U0001F300-\\U0001F5FF\"  # symbols & pictographs\n",
    "                           u\"\\U0001F680-\\U0001F6FF\"  # transport & map symbols\n",
    "                           u\"\\U0001F1E0-\\U0001F1FF\"  # flags (iOS)\n",
    "                           u\"\\U00002702-\\U000027B0\"\n",
    "                           u\"\\U000024C2-\\U0001F251\"\n",
    "                           \"]+\", flags=re.UNICODE)\n",
    "    return emoji_pattern.sub(r'', text)"
   ]
  },
  {
   "cell_type": "code",
   "execution_count": 5,
   "id": "703e4a93",
   "metadata": {},
   "outputs": [],
   "source": [
    "#Aplicamos los limpiadores\n",
    "df['text'] = df['text'].apply(Limpiador)"
   ]
  },
  {
   "cell_type": "code",
   "execution_count": 6,
   "id": "b2288147",
   "metadata": {},
   "outputs": [],
   "source": [
    "#Remover Emojis\n",
    "df['text']=df['text'].apply(lambda x: RemoverEmoji(x))"
   ]
  },
  {
   "cell_type": "code",
   "execution_count": 7,
   "id": "bb9f3dd3",
   "metadata": {},
   "outputs": [],
   "source": [
    "#Normalizar a utf-8, remover acentos\n",
    "from unicodedata import normalize\n",
    "\n",
    "RemoverAcentos = lambda text: normalize(\"NFKD\", text).encode(\"ascii\", \"ignore\").decode(\"utf-8\", \"ignore\")\n",
    "\n",
    "df[\"text\"] = df[\"text\"].apply(RemoverAcentos)"
   ]
  },
  {
   "cell_type": "code",
   "execution_count": 8,
   "id": "0c2af05f",
   "metadata": {},
   "outputs": [
    {
     "data": {
      "text/html": [
       "<div>\n",
       "<style scoped>\n",
       "    .dataframe tbody tr th:only-of-type {\n",
       "        vertical-align: middle;\n",
       "    }\n",
       "\n",
       "    .dataframe tbody tr th {\n",
       "        vertical-align: top;\n",
       "    }\n",
       "\n",
       "    .dataframe thead th {\n",
       "        text-align: right;\n",
       "    }\n",
       "</style>\n",
       "<table border=\"1\" class=\"dataframe\">\n",
       "  <thead>\n",
       "    <tr style=\"text-align: right;\">\n",
       "      <th></th>\n",
       "      <th>Unnamed: 0</th>\n",
       "      <th>text</th>\n",
       "      <th>class</th>\n",
       "    </tr>\n",
       "  </thead>\n",
       "  <tbody>\n",
       "    <tr>\n",
       "      <th>0</th>\n",
       "      <td>2</td>\n",
       "      <td>ex wife threatening suiciderecently i left my ...</td>\n",
       "      <td>suicide</td>\n",
       "    </tr>\n",
       "    <tr>\n",
       "      <th>1</th>\n",
       "      <td>3</td>\n",
       "      <td>am i weird i don t get affected by compliments...</td>\n",
       "      <td>non-suicide</td>\n",
       "    </tr>\n",
       "    <tr>\n",
       "      <th>2</th>\n",
       "      <td>4</td>\n",
       "      <td>finally 2020 is almost over so i can never hea...</td>\n",
       "      <td>non-suicide</td>\n",
       "    </tr>\n",
       "    <tr>\n",
       "      <th>3</th>\n",
       "      <td>8</td>\n",
       "      <td>i need helpjust help me im crying so hard</td>\n",
       "      <td>suicide</td>\n",
       "    </tr>\n",
       "    <tr>\n",
       "      <th>4</th>\n",
       "      <td>9</td>\n",
       "      <td>i m so losthello my name is adam 16 and i ve b...</td>\n",
       "      <td>suicide</td>\n",
       "    </tr>\n",
       "    <tr>\n",
       "      <th>5</th>\n",
       "      <td>11</td>\n",
       "      <td>honetly idki dont know what im even doing here...</td>\n",
       "      <td>suicide</td>\n",
       "    </tr>\n",
       "    <tr>\n",
       "      <th>6</th>\n",
       "      <td>12</td>\n",
       "      <td>trigger warning excuse for self inflicted bur...</td>\n",
       "      <td>suicide</td>\n",
       "    </tr>\n",
       "    <tr>\n",
       "      <th>7</th>\n",
       "      <td>13</td>\n",
       "      <td>it ends tonight i can t do it anymore i quit</td>\n",
       "      <td>suicide</td>\n",
       "    </tr>\n",
       "    <tr>\n",
       "      <th>8</th>\n",
       "      <td>16</td>\n",
       "      <td>everyone wants to be edgy and it s making me s...</td>\n",
       "      <td>non-suicide</td>\n",
       "    </tr>\n",
       "    <tr>\n",
       "      <th>9</th>\n",
       "      <td>18</td>\n",
       "      <td>my life is over at 20 years oldhello all i am ...</td>\n",
       "      <td>suicide</td>\n",
       "    </tr>\n",
       "  </tbody>\n",
       "</table>\n",
       "</div>"
      ],
      "text/plain": [
       "   Unnamed: 0                                               text        class\n",
       "0           2  ex wife threatening suiciderecently i left my ...      suicide\n",
       "1           3  am i weird i don t get affected by compliments...  non-suicide\n",
       "2           4  finally 2020 is almost over so i can never hea...  non-suicide\n",
       "3           8          i need helpjust help me im crying so hard      suicide\n",
       "4           9  i m so losthello my name is adam 16 and i ve b...      suicide\n",
       "5          11  honetly idki dont know what im even doing here...      suicide\n",
       "6          12   trigger warning excuse for self inflicted bur...      suicide\n",
       "7          13      it ends tonight i can t do it anymore i quit       suicide\n",
       "8          16  everyone wants to be edgy and it s making me s...  non-suicide\n",
       "9          18  my life is over at 20 years oldhello all i am ...      suicide"
      ]
     },
     "execution_count": 8,
     "metadata": {},
     "output_type": "execute_result"
    }
   ],
   "source": [
    "#Mostramos datos limpios\n",
    "df.head(10)"
   ]
  },
  {
   "cell_type": "code",
   "execution_count": 9,
   "id": "3df0be87",
   "metadata": {},
   "outputs": [
    {
     "name": "stderr",
     "output_type": "stream",
     "text": [
      "[nltk_data] Downloading package stopwords to\n",
      "[nltk_data]     C:\\Users\\gabom\\AppData\\Roaming\\nltk_data...\n",
      "[nltk_data]   Package stopwords is already up-to-date!\n",
      "[nltk_data] Downloading package punkt to\n",
      "[nltk_data]     C:\\Users\\gabom\\AppData\\Roaming\\nltk_data...\n",
      "[nltk_data]   Package punkt is already up-to-date!\n"
     ]
    },
    {
     "data": {
      "text/plain": [
       "True"
      ]
     },
     "execution_count": 9,
     "metadata": {},
     "output_type": "execute_result"
    }
   ],
   "source": [
    "#importamos el toolkit de procesamiento de lenguaje natural\n",
    "import nltk\n",
    "nltk.download('stopwords')\n",
    "import nltk\n",
    "nltk.download('punkt')"
   ]
  },
  {
   "cell_type": "markdown",
   "id": "6e5816bc",
   "metadata": {},
   "source": [
    "Las palabras vacías son palabras comunes que a menudo se eliminan de los textos durante el análisis de texto porque no aportan mucho significado en sí mismas. Ejemplos de palabras vacías en inglés incluyen \"a\", \"an\", \"the\", \"in\", \"on\", \"of\", etc."
   ]
  },
  {
   "cell_type": "code",
   "execution_count": 10,
   "id": "17a4827a",
   "metadata": {},
   "outputs": [],
   "source": [
    "#Importamos stopwords\n",
    "from nltk.corpus import stopwords\n",
    "#Seleccionamos el lenguaje\n",
    "stop = stopwords.words('english')"
   ]
  },
  {
   "cell_type": "code",
   "execution_count": 11,
   "id": "2c248013",
   "metadata": {},
   "outputs": [],
   "source": [
    "#Importamos el tokenizador de palabras\n",
    "from nltk import word_tokenize\n",
    "#Seleccioanmos idioma\n",
    "stop_words = set(stopwords.words('english'))\n",
    "#Seleccionamos la columna de review\n",
    "corpora = df[\"text\"].values\n",
    "#Tokenizamos todas las entradas del dataset en review\n",
    "tokenized = [word_tokenize(corpus) for corpus in corpora]"
   ]
  },
  {
   "cell_type": "code",
   "execution_count": 12,
   "id": "b47d5be5",
   "metadata": {},
   "outputs": [],
   "source": [
    "# Tokenización y eliminación de stopwords\n",
    "stop_words = set(stopwords.words('english'))\n",
    "df['tokens'] = df['text'].apply(lambda x: [word for word in word_tokenize(x.lower()) if word.isalnum() and word not in stop_words])\n",
    "\n",
    "# Eliminamos las palabras de tamaño 1\n",
    "df['tokens'] = df['tokens'].apply(lambda x: [word for word in x if len(word) > 1])\n"
   ]
  },
  {
   "cell_type": "code",
   "execution_count": 13,
   "id": "366aa1cd",
   "metadata": {},
   "outputs": [],
   "source": [
    "#Eliminamos los stopwords de todas las entradas del dataset que ya ha sido tokenizado\n",
    "tokens_sin_stopwords = [[word for word in sublist if word.lower() not in stop_words] for sublist in tokenized]"
   ]
  },
  {
   "cell_type": "code",
   "execution_count": 14,
   "id": "090f16c5",
   "metadata": {},
   "outputs": [],
   "source": [
    "#Eliminamos las palabras de tamaño 1\n",
    "tokenized_final = [list(filter(lambda x: len(x) > 1, document)) \\\n",
    "             for document in tokens_sin_stopwords]"
   ]
  },
  {
   "cell_type": "code",
   "execution_count": 15,
   "id": "b1a44147",
   "metadata": {
    "scrolled": true
   },
   "outputs": [
    {
     "name": "stdout",
     "output_type": "stream",
     "text": [
      "['really', 'fucking', 'hate', 'class', '9th', 'grade', 'btw', 'never', 'really', 'liked', 'much', 'could', 'hang', 'much', 'amount', 'casual', 'racism', 'shitty', 'stuff', 'said', 'really', 'care', 'much', 'cause', 'care', 'tbh', 'biracial', 'btw', 'apparently', 'makes', 'black', 'something', 'according', 'anyone', 'native', 'country', 'immigrant', 'word', 'sorts', 'racial', 'slurs', 'said', 'regularly', 'starting', 'piss', 'non', 'confrontational', 'person', 'keep', 'quiet', 'god', 'dying', 'inside', 'whenever', 'hell', 'open', 'mouths', 'make', 'mean', 'comments', 'make', 'fun', 'people', 'appearances', 'time', 'real', 'life', 'even', 'watching', 'someone', 'movie', 'documentary', 'stop', 'respectful', 'gods', 'sake', 'disrespect', 'teachers', 'respect', 'privacy', 'searching', 'teachers', 'google', 'search', 'history', 'personal', 'pc', 'around', 'make', 'fun', 'muslim', 'teachers', 'religion', 'course', 'racial', 'slurs', 'never', 'face', 'course', 'cause', 'wan', 'na', 'get', 'trouble', 'disrupt', 'class', 'time', 'girls', 'laugh', 'every', '30', 'seconds', 'almost', 'distracting', 'annoying', 'one', 'boy', 'mentality', 'year', 'old', 'got', 'ta', 'make', 'fun', 'accents', 'make', 'fun', 'movements', 'make', 'fun', 'clothing', 'make', 'fun', 'music', 'people', 'listen', 'make', 'fun', 'people', 'jobs', 'make', 'fun', 'people', 'education', 'make', 'fun', 'phone', 'sorts', 'bullshit', 'literally', 'fucking', 'matter', 'take', 'time', 'day', 'make', 'fun', 'smallest', 'things', 'stupid', 'mean', 'pointless', 'actually', 'makes', 'angry', 'point', 'writing', 'let', 'anger', 'cause', 'like', 'said', 'never', 'speak', 'mind', 'even', 'made', 'fun', 'people', 'conditions', 'like', 'syndrome', 'look', 'funny', 'keep', 'mind', 'people', '14', '16', 'years', 'old', 'unbelievable', 'fucking', 'immature', 'age']\n"
     ]
    }
   ],
   "source": [
    "#Mostramos un ejemplo tokenizado y sin stopwords\n",
    "print(tokenized_final[2222])"
   ]
  },
  {
   "cell_type": "code",
   "execution_count": 16,
   "id": "80a3f656",
   "metadata": {},
   "outputs": [],
   "source": [
    "# Funciones de carga y procesamiento de datos\n",
    "def cargar_datos_csv(nombre_archivo):\n",
    "    df = pd.read_csv(nombre_archivo)\n",
    "    num_registros = len(df)\n",
    "    return df, num_registros"
   ]
  },
  {
   "cell_type": "code",
   "execution_count": 17,
   "id": "6e07fa11",
   "metadata": {},
   "outputs": [],
   "source": [
    "def cargas(sumaFinal, tamaño_ventana):\n",
    "    numeros_random = []\n",
    "    suma = 0\n",
    "    while suma < sumaFinal:\n",
    "        numeroA = random.randint(1, 30)  # Modificado para que sea de 1 a 30\n",
    "        if suma + numeroA > sumaFinal:\n",
    "            numeros_random.append(sumaFinal - suma)\n",
    "            break\n",
    "        else:\n",
    "            numeros_random.append(numeroA)\n",
    "            suma = sum(numeros_random)\n",
    "    if len(numeros_random) % tamaño_ventana != 0:\n",
    "        resto = len(numeros_random) % tamaño_ventana\n",
    "        if resto != 0:\n",
    "            elementos_faltantes = tamaño_ventana - resto\n",
    "            numeros_random.extend([0] * elementos_faltantes)\n",
    "    return numeros_random"
   ]
  },
  {
   "cell_type": "code",
   "execution_count": 18,
   "id": "5b41b2b7",
   "metadata": {},
   "outputs": [],
   "source": [
    "def generar_poblacion(num_individuos, tamaño_ventana):\n",
    "    poblacion = []\n",
    "    for _ in range(num_individuos):\n",
    "        individuo = [random.uniform(1, tamaño_ventana) for _ in range(tamaño_ventana)]\n",
    "        poblacion.append(individuo)\n",
    "    return poblacion"
   ]
  },
  {
   "cell_type": "code",
   "execution_count": 19,
   "id": "9385d748",
   "metadata": {},
   "outputs": [],
   "source": [
    "def calcular_fitness(asignacion_procesos, maxspan):\n",
    "    utilizacion_procesadores = []\n",
    "    for procesos in asignacion_procesos.values():\n",
    "        carga_total = sum(procesos)\n",
    "        utilizacion = carga_total / maxspan\n",
    "        utilizacion_procesadores.append(utilizacion)\n",
    "\n",
    "    apu = sum(utilizacion_procesadores) / len(utilizacion_procesadores)\n",
    "    fitness = (1 / maxspan) * apu\n",
    "    return fitness"
   ]
  },
  {
   "cell_type": "code",
   "execution_count": 20,
   "id": "44741a6b",
   "metadata": {},
   "outputs": [],
   "source": [
    "def seleccion_por_ruleta(poblacion, fitness_poblacion):\n",
    "    total_fitness = sum(fitness_poblacion)\n",
    "    probabilidad_seleccion = [fit / total_fitness for fit in fitness_poblacion]\n",
    "    papa1 = random.choices(poblacion, weights=probabilidad_seleccion)[0]\n",
    "    papa2 = random.choices(poblacion, weights=probabilidad_seleccion)[0]\n",
    "    return papa1, papa2"
   ]
  },
  {
   "cell_type": "code",
   "execution_count": 21,
   "id": "4c09d793",
   "metadata": {},
   "outputs": [],
   "source": [
    "def mutacion(individuo, tasa_mut):\n",
    "    if random.random() < tasa_mut:\n",
    "        idx1, idx2 = random.sample(range(len(individuo)), 2)\n",
    "        individuo[idx1], individuo[idx2] = individuo[idx2], individuo[idx1]\n",
    "    return individuo"
   ]
  },
  {
   "cell_type": "code",
   "execution_count": 22,
   "id": "1c96d4d1",
   "metadata": {},
   "outputs": [],
   "source": [
    "def cruzamiento(papa1, papa2, tasa_cruz, tasa_mut):\n",
    "    if random.random() < tasa_cruz:\n",
    "        punto_de_cruce = random.randint(1, len(papa1) - 1)\n",
    "\n",
    "        hijo1 = papa1[:punto_de_cruce] + [x for x in papa2 if x not in papa1[:punto_de_cruce]]\n",
    "        hijo2 = papa2[:punto_de_cruce] + [x for x in papa1 if x not in papa2[:punto_de_cruce]]\n",
    "    else:\n",
    "        hijo1 = papa1\n",
    "        hijo2 = papa2\n",
    "\n",
    "    return mutacion(hijo1, tasa_mut), mutacion(hijo2, tasa_mut)"
   ]
  },
  {
   "cell_type": "code",
   "execution_count": 23,
   "id": "a7c94fb2",
   "metadata": {},
   "outputs": [],
   "source": [
    "def conversion(individuo, carga, tamaño_ventana, num_procesadores):\n",
    "    asignacion_procesos = {i + 1: [] for i in range(num_procesadores)}\n",
    "    indices = list(map(int, individuo))  # No se usa split() porque `individuo` es una lista\n",
    "    x = 0\n",
    "    while x < len(carga):\n",
    "        for i, indice in enumerate(indices):\n",
    "            clave = (i % num_procesadores) + 1\n",
    "            asignacion_procesos[clave].append(carga[(indice - 1) + x])\n",
    "        x = x + tamaño_ventana\n",
    "    maxspan = max(sum(procesos) for procesos in asignacion_procesos.values())\n",
    "    fitness = calcular_fitness(asignacion_procesos, maxspan)\n",
    "    return asignacion_procesos, fitness"
   ]
  },
  {
   "cell_type": "code",
   "execution_count": 24,
   "id": "74c8a403",
   "metadata": {},
   "outputs": [],
   "source": [
    "def slide_window(procesos, size_w):\n",
    "    ventanas = []\n",
    "    for i in range(0, len(procesos), size_w):\n",
    "        ventana = procesos[i:i + size_w]\n",
    "        if len(ventana) < size_w:\n",
    "            ventana += [0] * (size_w - len(ventana))\n",
    "        ventanas.append(ventana)\n",
    "    return ventanas\n"
   ]
  },
  {
   "cell_type": "code",
   "execution_count": 25,
   "id": "bc98c491",
   "metadata": {},
   "outputs": [],
   "source": [
    "def calcular_estadisticas_procesadores(asignacion_procesos):\n",
    "    colas_procesadores = [procesos for procesos in asignacion_procesos.values()]\n",
    "    media_procesadores = sum(map(sum, colas_procesadores)) / len(colas_procesadores)\n",
    "    max_cola = max(sum(procesos) for procesos in asignacion_procesos.values())\n",
    "    return colas_procesadores, media_procesadores, max_cola"
   ]
  },
  {
   "cell_type": "code",
   "execution_count": 26,
   "id": "26de9bbd",
   "metadata": {},
   "outputs": [],
   "source": [
    "def imprimir_colas_procesadores(colas_procesadores):\n",
    "    for i, cola in enumerate(colas_procesadores):\n",
    "        print(f\"Procesador {i} = {sum(cola)}\")\n"
   ]
  },
  {
   "cell_type": "code",
   "execution_count": 27,
   "id": "3ecfc32a",
   "metadata": {},
   "outputs": [],
   "source": [
    "def entrenar_word2vec(data_chunk):\n",
    "    model = Word2Vec(sentences=data_chunk, vector_size=100, window=5, min_count=1, workers=8)\n",
    "    return model"
   ]
  },
  {
   "cell_type": "code",
   "execution_count": 33,
   "id": "c8fddacf",
   "metadata": {},
   "outputs": [],
   "source": [
    "# Configuración de parámetros  \n",
    "num_procesadores= 8 \n",
    "tamaño_ventana = 16  \n",
    "num_individuos = 10\n",
    "num_generaciones = 50\n",
    "tasa_mut = 0.1\n",
    "tasa_cruz = 0.8"
   ]
  },
  {
   "cell_type": "code",
   "execution_count": 34,
   "id": "39b17abc",
   "metadata": {},
   "outputs": [
    {
     "name": "stdout",
     "output_type": "stream",
     "text": [
      "Tiempo de entrenamiento de Word2Vec con 2 procesadores: 84.96683311462402 segundos\n",
      "Tiempo de entrenamiento de Word2Vec con 3 procesadores: 68.050042390823364 segundos\n",
      "Tiempo de entrenamiento de Word2Vec con 4 procesadores: 58.85554122924805 segundos\n",
      "Tiempo de entrenamiento de Word2Vec con 5 procesadores: 43.41162467002869 segundos\n",
      "Tiempo de entrenamiento de Word2Vec con 6 procesadores: 32.14200282096863 segundos\n",
      "Tiempo de entrenamiento de Word2Vec con 7 procesadores: 24.61114430427551 segundos\n",
      "Tiempo de entrenamiento de Word2Vec con 8 procesadores: 23.874298095703125 segundos\n",
      "2 procesadores: 84.96683311462402 s\n",
      "3 procesadores: 68.050042390823364 s\n",
      "4 procesadores: 58.85554122924805 s\n",
      "5 procesadores: 43.41162467002869 s\n",
      "6 procesadores: 32.14200282096863 s\n",
      "7 procesadores: 24.61114430427551 s\n",
      "8 procesadores: 23.874298095703125 s\n"
     ]
    }
   ],
   "source": [
    "def distribuir_y_entrenar_word2vec(num_procesadores, df, tamaño_ventana, num_individuos, num_generaciones, tasa_mut, tasa_cruz):\n",
    "    tiempos_entrenamiento = []\n",
    "\n",
    "    for procesadores in range(2, num_procesadores + 1):\n",
    "        mejor_asignacion_global = None\n",
    "        mejor_carga_global = float('-inf')\n",
    "        num_registros = len(df)\n",
    "\n",
    "        carga = cargas(num_registros, tamaño_ventana)\n",
    "        poblacion = generar_poblacion(num_individuos, tamaño_ventana)\n",
    "\n",
    "        for generacion in range(num_generaciones):\n",
    "            fitness_poblacion = []\n",
    "            nueva_poblacion = []\n",
    "\n",
    "            for individuo in poblacion:\n",
    "                asignacion, _ = conversion(individuo, carga, tamaño_ventana, procesadores)\n",
    "                carga_procesadores = [sum(procesos) for procesos in asignacion.values()]\n",
    "                max_carga_procesador = max(carga_procesadores)\n",
    "\n",
    "                if max_carga_procesador > mejor_carga_global:\n",
    "                    mejor_carga_global = max_carga_procesador\n",
    "                    mejor_asignacion_global = asignacion.copy()\n",
    "\n",
    "                fitness = calcular_fitness(asignacion, max_carga_procesador)\n",
    "                fitness_poblacion.append(fitness)\n",
    "                nueva_poblacion.append(mutacion(individuo, tasa_mut))\n",
    "\n",
    "            poblacion = nueva_poblacion\n",
    "\n",
    "        tiempo_inicio = time.time()\n",
    "        word2vec_model = Word2Vec(sentences=df['tokens'], vector_size=100, window=5, min_count=1, workers=procesadores)\n",
    "        tiempo_fin = time.time()\n",
    "\n",
    "        tiempo_transcurrido = tiempo_fin - tiempo_inicio\n",
    "        print(f\"Tiempo de entrenamiento de Word2Vec con {procesadores} procesadores: {tiempo_transcurrido} segundos\")\n",
    "\n",
    "        tiempos_entrenamiento.append((procesadores, tiempo_transcurrido))\n",
    "\n",
    "    return tiempos_entrenamiento\n",
    "\n",
    "# Obtener los tiempos de entrenamiento\n",
    "tiempos_entrenamiento = distribuir_y_entrenar_word2vec(num_procesadores, df, tamaño_ventana, num_individuos, num_generaciones, tasa_mut, tasa_cruz)\n",
    "\n",
    "# Imprimir los resultados\n",
    "for procesadores, tiempo in tiempos_entrenamiento:\n",
    "    print(f\"{procesadores} procesadores: {tiempo} s\")\n"
   ]
  },
  {
   "cell_type": "code",
   "execution_count": 35,
   "id": "050252c6",
   "metadata": {},
   "outputs": [
    {
     "data": {
      "image/png": "[encoded data removed]",
      "text/plain": [
       "<Figure size 640x480 with 1 Axes>"
      ]
     },
     "metadata": {},
     "output_type": "display_data"
    }
   ],
   "source": [
    "import matplotlib.pyplot as plt\n",
    "import numpy as np\n",
    "\n",
    "# Tiempo secuencial\n",
    "tiempo_secuencial = 115 # Reemplaza esto con tu tiempo secuencial real\n",
    "\n",
    "# Supongamos que tienes una lista llamada tiempos_entrenamiento con tuplas (num_procesadores, tiempo_transcurrido)\n",
    "tiempos_entrenamiento = [(2, 80.7583224773407), (3, 67.44052290916443), (4, 52.599225997924805),\n",
    "                         (5, 41.10544490814209), (6, 36.690492391586304), (7, 28.06205987930298), (8, 20.52948069572449)]\n",
    "\n",
    "# Extraer datos para el gráfico\n",
    "num_procesadores, tiempos = zip(*tiempos_entrenamiento)\n",
    "\n",
    "# Crear gráfico de barras\n",
    "fig, ax = plt.subplots()\n",
    "bar_width = 0.35\n",
    "bar_positions = np.arange(len(num_procesadores))\n",
    "\n",
    "# Barra para el tiempo de entrenamiento paralelo (en azul)\n",
    "bars_paralelo = ax.bar(bar_positions, tiempos, bar_width, label='Paralelo', color='orange')\n",
    "\n",
    "# Barra para el tiempo secuencial (en naranja)\n",
    "bars_secuencial = ax.bar(bar_positions - bar_width / 2, [tiempo_secuencial] * len(num_procesadores),\n",
    "                         bar_width, label='Secuencial', color='blue')\n",
    "\n",
    "# Agregar etiquetas y título\n",
    "ax.set_xlabel('Número de Procesadores')\n",
    "ax.set_ylabel('Tiempo de Entrenamiento (segundos)')\n",
    "ax.set_title('Comparación entre Tiempo Paralelo y Secuencial')\n",
    "ax.set_xticks(bar_positions)\n",
    "ax.set_xticklabels(num_procesadores)\n",
    "ax.legend()\n",
    "\n",
    "# Mostrar la gráfica\n",
    "plt.show()\n"
   ]
  },
  {
   "cell_type": "markdown",
   "id": "c37f9fcc",
   "metadata": {},
   "source": [
    "Optimizacion de word2vec con 8 procesadores para ver comportamiento segun su numero de tweets"
   ]
  },
  {
   "cell_type": "code",
   "execution_count": 36,
   "id": "f0886c51",
   "metadata": {},
   "outputs": [
    {
     "name": "stdout",
     "output_type": "stream",
     "text": [
      "\n",
      "Tiempo de entrenamiento de Word2Vec: 28.21808743476868 segundos\n"
     ]
    }
   ],
   "source": [
    "tamaño_ventana = 16  \n",
    "num_individuos = 10\n",
    "num_generaciones = 50\n",
    "tasa_mut = 0.1\n",
    "tasa_cruz = 0.8\n",
    "\n",
    "def distribuir_y_word2vec(num_procesadores, df, tamaño_ventana, num_individuos, num_generaciones, tasa_mut, tasa_cruz):\n",
    "    mejor_asignacion_global = None\n",
    "    mejor_carga_global = float('-inf')\n",
    "    num_registros = len(df) \n",
    "    num_procesadores = 8\n",
    "\n",
    "    while num_procesadores <= 8:\n",
    "        carga = cargas(num_registros, tamaño_ventana)\n",
    "        poblacion = generar_poblacion(num_individuos, tamaño_ventana)\n",
    "\n",
    "        for generacion in range(num_generaciones):\n",
    "            fitness_poblacion = []\n",
    "            nueva_poblacion = []\n",
    "\n",
    "            for individuo in poblacion:\n",
    "                asignacion, _ = conversion(individuo, carga, tamaño_ventana, num_procesadores)\n",
    "                carga_procesadores = [sum(procesos) for procesos in asignacion.values()]\n",
    "                max_carga_procesador = max(carga_procesadores)\n",
    "\n",
    "                if max_carga_procesador > mejor_carga_global:\n",
    "                    mejor_carga_global = max_carga_procesador\n",
    "                    mejor_asignacion_global = asignacion.copy()\n",
    "\n",
    "                fitness = calcular_fitness(asignacion, max_carga_procesador)\n",
    "                fitness_poblacion.append(fitness)\n",
    "                nueva_poblacion.append(mutacion(individuo, tasa_mut))\n",
    "\n",
    "            poblacion = nueva_poblacion\n",
    "\n",
    "            # (Impresiones y procesamientos adicionales que desees realizar por generación)\n",
    "            #print(f\"\\nGeneración: {generacion + 1}\")\n",
    "            #print(\"Detalles de la asignación de procesos:\")\n",
    "            #for i, procesos in mejor_asignacion_global.items():\n",
    "             #   print(f\"Procesador {i} = {sum(procesos)}\")\n",
    "            #print(f\"Media de las cargas de procesadores: {sum(carga_procesadores) / len(carga_procesadores)}\")\n",
    "            #print(f\"Mayor carga encontrada: {mejor_carga_global}\")\n",
    "\n",
    "        num_procesadores += 1\n",
    "\n",
    "    # Utilizar la mejor asignación global para el entrenamiento de Word2Vec\n",
    "    if mejor_asignacion_global is not None:\n",
    "        tiempo_inicio = time.time()\n",
    "        word2vec_model = Word2Vec(sentences=df['tokens'], vector_size=100, window=5, min_count=1, workers=num_procesadores)\n",
    "        tiempo_fin = time.time()\n",
    "\n",
    "        tiempo_transcurrido = tiempo_fin - tiempo_inicio\n",
    "        print(f\"\\nTiempo de entrenamiento de Word2Vec: {tiempo_transcurrido} segundos\")\n",
    "\n",
    "    return word2vec_model  # Devolver el modelo entrenado\n",
    "\n",
    "\n",
    "# Obtener el modelo Word2Vec entrenado\n",
    "word2vec_model = distribuir_y_word2vec(num_procesadores, df, tamaño_ventana, num_individuos, num_generaciones, tasa_mut, tasa_cruz)"
   ]
  },
  {
   "cell_type": "code",
   "execution_count": 37,
   "id": "7f16e714",
   "metadata": {},
   "outputs": [
    {
     "name": "stdout",
     "output_type": "stream",
     "text": [
      "Con 10000 tweets: 1.311701774597168 seg\n",
      "Con 20000 tweets: 2.4636731147766113 seg\n",
      "Con 30000 tweets: 3.7691683769226074 seg\n",
      "Con 40000 tweets: 5.145769834518433 seg\n",
      "Con 50000 tweets: 6.14773416519165 seg\n",
      "Con 60000 tweets: 7.553819417953491 seg\n",
      "Con 70000 tweets: 8.553730487823486 seg\n",
      "Con 80000 tweets: 9.740924596786499 seg\n",
      "Con 90000 tweets: 10.888047695159912 seg\n",
      "Con 100000 tweets: 12.155096769332886 seg\n",
      "Con 200000 tweets: 24.158611059188843 seg\n"
     ]
    }
   ],
   "source": [
    "import time\n",
    "from gensim.models import Word2Vec\n",
    "num_procesadores = 8\n",
    "\n",
    "# Definir la función para medir el tiempo de entrenamiento\n",
    "def medir_tiempo_entrenamiento(num_tweets, word2vec_model, df):\n",
    "    # Seleccionar una muestra de tweets\n",
    "    tweets_muestra = df['tokens'].iloc[:num_tweets].tolist()\n",
    "\n",
    "    tiempo_inicio = time.time()\n",
    "    word2vec_model.train(tweets_muestra, total_examples=len(tweets_muestra), epochs=word2vec_model.epochs)\n",
    "    tiempo_fin = time.time()\n",
    "\n",
    "    tiempo_transcurrido = tiempo_fin - tiempo_inicio\n",
    "    return tiempo_transcurrido\n",
    "\n",
    "#cantidad de tweets a procesar\n",
    "tweets_a_procesar = [10000, 20000, 30000, 40000, 50000, 60000, 70000, 80000, 90000, 100000, 200000]\n",
    "\n",
    "# Medir el tiempo de entrenamiento para cada cantidad de tweets\n",
    "for num_tweets in tweets_a_procesar:\n",
    "    tiempo_entrenamiento = medir_tiempo_entrenamiento(num_tweets, word2vec_model, df)\n",
    "    print(f\"Con {num_tweets} tweets: {tiempo_entrenamiento} seg\")"
   ]
  },
  {
   "cell_type": "code",
   "execution_count": 38,
   "id": "ec2d5204",
   "metadata": {},
   "outputs": [
    {
     "data": {
      "image/png": "[encoded data removed]",
      "text/plain": [
       "<Figure size 1000x600 with 1 Axes>"
      ]
     },
     "metadata": {},
     "output_type": "display_data"
    }
   ],
   "source": [
    "import matplotlib.pyplot as plt\n",
    "import numpy as np\n",
    "\n",
    "tiempo_secuencial = 38\n",
    "\n",
    "# Tiempos paralelos obtenidos\n",
    "tweets_a_procesar = [10000, 20000, 30000, 40000, 50000, 60000, 70000, 80000, 90000, 100000, 200000]\n",
    "tiempos_paralelos = [1.2781953811645508, 2.4485650062561035, 3.7118237018585205, 4.880297899246216, \n",
    "                     6.092125177383423, 7.561915159225464, 8.922825813293457, 9.759102582931519, \n",
    "                     11.06895136833191, 12.360910177230835, 24.28256916999817]\n",
    "\n",
    "ancho_barra = 0.35\n",
    "\n",
    "fig, ax = plt.subplots(figsize=(10, 6))\n",
    "barra_paralela = ax.bar(np.arange(len(tweets_a_procesar)), tiempos_paralelos, width=ancho_barra, label='Paralelo', color='orange')\n",
    "barra_secuencial = ax.bar(np.arange(len(tweets_a_procesar)) + ancho_barra, [tiempo_secuencial] * len(tweets_a_procesar), width=ancho_barra, label='Secuencial', color='blue')\n",
    "\n",
    "#gráfica\n",
    "ax.set_xticks(np.arange(len(tweets_a_procesar)) + ancho_barra / 2)\n",
    "ax.set_xticklabels(tweets_a_procesar)\n",
    "ax.set_title('Tiempo Paralelo vs Tiempo Secuencial por Cantidad de Tweets')\n",
    "ax.set_xlabel('Cantidad de Tweets')\n",
    "ax.set_ylabel('Tiempo (segundos)')\n",
    "ax.legend()\n",
    "ax.grid(axis='y')\n",
    "\n",
    "plt.show()\n"
   ]
  },
  {
   "cell_type": "code",
   "execution_count": 39,
   "id": "aa1b219f",
   "metadata": {},
   "outputs": [
    {
     "name": "stdout",
     "output_type": "stream",
     "text": [
      "\n",
      "Vectores para los primeros 5 datos en el conjunto de entrenamiento:\n",
      "Dato 1 - Vector: [-0.16432947 -0.17327309 -0.61434263  0.44026953  0.05820833  0.784133\n",
      " -0.35785967 -0.68639666  0.1822196   0.9459795  -0.5712038  -0.25837627\n",
      "  0.35807592  0.2498178   0.6153931  -0.29495803  0.28817937  0.58066434\n",
      " -0.44355023  0.3635445  -0.8662003  -0.4629706   0.54392666 -0.4141743\n",
      " -0.41987476 -0.5765817   1.0110871   0.89348525  0.56611687 -0.45833626\n",
      "  0.20740475 -1.0060531   0.09150474  0.33041313  0.39930576 -1.0404369\n",
      " -0.5319017   0.69356436  0.00395907  0.42667395 -0.19017701 -0.1821837\n",
      " -0.22136064  0.2658463  -0.08173977  0.26098213  0.2808848  -0.21488668\n",
      " -0.48467308 -0.2611486   0.6347406  -0.3563019   0.7472623   0.34114966\n",
      "  0.48987514  0.3460893   0.1331067   0.5580865   0.19045456 -0.6556156\n",
      "  0.0277957  -0.3206683  -0.02884484 -0.9468036  -0.607926   -0.2696667\n",
      "  0.05238795  0.27230403 -0.0828352   0.23058662  0.8026477  -0.48250702\n",
      " -0.12473752  0.09020808 -0.46853843  0.12047365 -0.19669238  0.84905964\n",
      "  0.07071456 -0.276401   -0.4172953   0.09691642  0.53442067 -0.90329075\n",
      " -0.4105015   0.48968592 -0.7448421  -0.30370027 -0.5872885   0.41867283\n",
      " -0.0614573  -0.6708838  -1.1273277   0.31809303 -0.5581366  -0.01656103\n",
      "  0.33612555  1.1873703  -0.93437904 -0.26279223]\n",
      "Dato 2 - Vector: [-0.4717008  -0.10044842 -0.9847714   0.5846174  -0.23957445 -0.00895149\n",
      " -0.6492064  -0.9271648  -0.29671514  0.639096    0.13019316  0.42283267\n",
      " -0.38530856  1.2230538   0.09325533  0.10049192  1.9312412  -0.33136413\n",
      " -0.01428903  0.16663045 -0.38944668  0.35823286  1.252654    0.01487401\n",
      " -1.091557   -0.23894864  0.26448312  1.0057263  -0.05499243 -0.20250541\n",
      " -0.07976708 -1.6728492   0.26710317 -0.13855076 -0.22726814 -0.75765234\n",
      " -0.35187384  0.6686057  -0.58126867  0.55507517 -0.5482588  -0.07364709\n",
      "  0.68707955 -0.4225632   0.85427386  0.7082697   0.14704809 -0.3102043\n",
      " -0.56644815  0.18934712  0.4031689  -0.3247721   0.04895664  1.7461245\n",
      " -0.48215026  0.15387176  0.32281616 -0.06876287 -0.14189139 -0.87229085\n",
      " -0.5179487   0.11808129 -0.27621245 -1.0719389  -0.1342776  -0.4790386\n",
      " -0.44907475 -0.52006507  0.0409979  -0.8424244   1.1089587  -0.3578194\n",
      " -0.19636782  0.98033416 -0.42624268  0.73000497 -1.3371314   1.411077\n",
      " -1.1517829  -0.13459668  0.15326661  0.33383355 -0.87072414  0.3070019\n",
      " -0.14325544  0.6000174  -0.9593076  -0.30213436 -0.10961369  0.5160789\n",
      " -0.3493674  -0.31976816 -2.070057    0.37388474 -0.44397157  0.44831306\n",
      " -0.6994638   1.3661803  -1.0742646  -0.22001886]\n",
      "Dato 3 - Vector: [ 0.11935735  0.65849966 -0.7732263  -0.07725348 -0.01929062  0.3802696\n",
      " -0.49606037  0.17901911 -0.59413266  1.4573992  -0.38378346  0.65078187\n",
      "  1.7986474   0.12234344 -0.09981593 -0.48898882  0.11008664  0.09625026\n",
      " -0.5969771   1.1925918  -0.33760497  0.06887423 -0.10510547  0.12673992\n",
      " -0.87190884 -0.08863428  0.9608107   1.8318392  -0.5468178  -0.04526896\n",
      "  0.15586998 -0.68601924  0.03385483  1.2178342   0.9199022  -0.6854072\n",
      " -0.19043683  1.0714576  -0.36677167  0.05355773 -0.47672656  0.1834504\n",
      "  0.7326225   0.14859134  0.284173    0.22886269 -0.58574176 -0.4823727\n",
      "  0.15826188 -0.9026318   1.0913122   0.3193819  -0.0560995   0.31953433\n",
      "  0.12093445 -0.3573504   0.43416578 -0.29438388 -0.07547303 -0.8305635\n",
      "  0.050936   -0.28557542 -0.10918168 -0.19683251 -0.33014724  0.43244016\n",
      "  0.96922904  0.14139725  0.24195798 -0.3451784   1.429604    0.05218142\n",
      " -0.18067583  0.3051625   0.42953107  1.2913228  -0.31981033  0.9458094\n",
      " -0.61186135 -0.08869739 -0.2568266   0.5670517   0.2494784   0.00897651\n",
      " -0.3551095   0.311664   -0.49264017 -0.44086856 -0.6297317   0.32176337\n",
      "  0.07341675 -0.40996966 -1.5201236  -0.0197045  -0.5102631  -0.01868302\n",
      " -0.01817919  0.7070107  -1.1476119   0.12563735]\n",
      "Dato 4 - Vector: [ 0.02360455  0.33768073  0.13038915  0.38014016  0.38100088 -0.18573712\n",
      " -0.65185326 -0.8373198  -0.70304066  0.32871094  0.03257362  0.57897806\n",
      "  0.7886865   0.61553705  0.6827049   0.859009    1.2038575  -1.6450332\n",
      " -0.6819763  -0.09041659 -1.2203103   0.14692676  0.11293566 -0.69057226\n",
      "  0.08509675  0.49455932  1.1039321   1.2664248  -0.14356396  0.07145431\n",
      " -0.1747377  -1.4635142   1.4938718   0.5710359  -1.2420337  -0.14706607\n",
      " -0.7313547   0.30506793 -0.32717234  0.8735802   0.8963761  -0.48982835\n",
      " -0.25303105  0.17636897  0.24069156  0.26352564 -0.1770768  -0.02034924\n",
      " -0.6187709   1.0791484  -0.3409643   0.54065067  0.13024278  1.4286827\n",
      " -0.25104034  0.71130246  0.27763855  0.60323954 -0.01124871 -1.1017767\n",
      "  0.09324336 -0.87825185 -0.23064585 -0.3736002  -0.85735255  0.781202\n",
      " -0.6373134  -0.19133176  0.42446733 -0.22377169  0.0716608  -0.4276198\n",
      " -0.38111353  0.09368364 -0.5319827   0.16381538 -0.13156562  1.2400335\n",
      "  0.09712669 -0.24206619 -0.0964284   0.48937127  0.6067114  -0.86791474\n",
      "  1.0413729   0.9523658  -0.9040327  -0.46047926 -0.519052   -0.62596697\n",
      " -0.3175728   0.07975006 -1.3419905   1.2256826  -1.3102916  -0.83798623\n",
      " -1.1807458   1.6302725  -1.2797462  -0.3409032 ]\n",
      "Dato 5 - Vector: [-0.6266379  -0.3847863  -0.29557538  0.8716526  -0.29106796  0.36329886\n",
      " -0.23694979 -0.919621    0.14140905  0.9105347  -0.25470972 -0.08606695\n",
      "  0.3706808  -0.08282164  0.09679904 -0.20987272  0.49242255  0.16807368\n",
      " -0.46069315  0.3505986  -0.9542866  -0.05015152  0.46015918  0.12991425\n",
      " -0.31706348 -0.09742693  0.45652458  0.8881615   0.2114139  -0.16137457\n",
      " -0.2037043  -0.2937988   0.32808048  0.5681496   0.10955571 -0.44769457\n",
      " -0.04535841  0.62938505 -0.00426198  0.5412157  -0.3222034  -0.07220405\n",
      "  0.14475334  0.29696286 -0.44896     0.5253439   0.10387851 -0.39451346\n",
      " -0.26792684 -0.21467942  0.4932046   0.15602757  0.6252547   0.17709716\n",
      "  0.17445795  0.17244975  0.32185292  0.7452645   0.08216444 -0.7114646\n",
      " -0.2309351  -0.22029977 -0.04301593 -1.1569924  -0.6853311  -0.25802076\n",
      " -0.20215891  0.09407478  0.25854015 -0.2521259   0.4255827   0.00152081\n",
      " -0.6960473   0.12812898 -0.24930252  0.22057633 -0.12273276  0.78745043\n",
      " -0.15939575 -0.38916895 -0.40354037  0.01012442  0.75929284 -0.65861803\n",
      " -0.59004426  0.5717258  -0.4656891  -0.37416962 -0.73718435  0.4650857\n",
      " -0.30248535 -0.43885574 -0.87963206  0.43220994 -0.79635507 -0.51687247\n",
      " -0.05597355  1.2012963  -0.21100056 -0.11799092]\n",
      "\n",
      "Se han generado los vectores para los primeros 5 datos en el conjunto del word2vec.\n"
     ]
    }
   ],
   "source": [
    "# Función para convertir texto a vectores usando Word2Vec\n",
    "def text_to_vectors(text, word2vec_model):\n",
    "    vectors = [word2vec_model.wv[word] for word in text if word in word2vec_model.wv]\n",
    "    return sum(vectors) / len(vectors) if vectors else [0] * 100\n",
    "\n",
    "print(\"\\nVectores para los primeros 5 datos en el conjunto de entrenamiento:\")\n",
    "for index, row in df.head(5).iterrows():\n",
    "    vector = text_to_vectors(row['tokens'], word2vec_model)\n",
    "    print(f\"Dato {index + 1} - Vector: {vector}\")\n",
    "\n",
    "print(\"\\nSe han generado los vectores para los primeros 5 datos en el conjunto del word2vec.\")\n"
   ]
  },
  {
   "cell_type": "markdown",
   "id": "f00f7f44",
   "metadata": {},
   "source": [
    "Librerias para los modelos de machine learning"
   ]
  },
  {
   "cell_type": "code",
   "execution_count": 40,
   "id": "b345e90b",
   "metadata": {},
   "outputs": [],
   "source": [
    "from sklearn.ensemble import RandomForestClassifier, AdaBoostClassifier\n",
    "from sklearn.neighbors import KNeighborsClassifier\n",
    "from gensim.models import Word2Vec\n",
    "from sklearn.metrics import accuracy_score\n",
    "from sklearn.model_selection import train_test_split\n",
    "from sklearn.metrics import confusion_matrix, accuracy_score, precision_recall_fscore_support"
   ]
  },
  {
   "cell_type": "markdown",
   "id": "0fc22b0f",
   "metadata": {},
   "source": [
    "Linea donde se entrena comn 80% y 20% de test para todos los modelos de machine learning"
   ]
  },
  {
   "cell_type": "code",
   "execution_count": 41,
   "id": "6c9d79a6",
   "metadata": {},
   "outputs": [],
   "source": [
    "# Dividir el conjunto de datos en entrenamiento (80%) y prueba (20%)\n",
    "X_train, X_test, y_train, y_test = train_test_split(df['tokens'], df['class'], test_size=0.2, random_state=42)\n",
    "\n",
    "# Aplicar la función de conversión a vectores a los conjuntos de entrenamiento y prueba\n",
    "X_train_word2vec = X_train.apply(lambda x: text_to_vectors(x, word2vec_model))\n",
    "X_test_word2vec = X_test.apply(lambda x: text_to_vectors(x, word2vec_model))"
   ]
  },
  {
   "cell_type": "markdown",
   "id": "276eef8d",
   "metadata": {},
   "source": [
    "Bosques aleatorios"
   ]
  },
  {
   "cell_type": "code",
   "execution_count": 42,
   "id": "b0240ce5",
   "metadata": {},
   "outputs": [
    {
     "name": "stdout",
     "output_type": "stream",
     "text": [
      "Matriz de confusión:\n",
      "[[21597  1690]\n",
      " [ 2033 21095]]\n",
      "\n",
      "Error global:\n",
      "0.02544814\n",
      "Random Forest Accuracy: 0.9745518613594744\n"
     ]
    }
   ],
   "source": [
    "# Random Forest\n",
    "rf_model = RandomForestClassifier(n_estimators=100, random_state=42)\n",
    "rf_model.fit(X_train_word2vec.tolist(), y_train)\n",
    "rf_predictions = rf_model.predict(X_test_word2vec.tolist())\n",
    "rf_accuracy = accuracy_score(y_test, rf_predictions)\n",
    "\n",
    "#Matriz de confusion\n",
    "conf_matrix = confusion_matrix(y_test, rf_predictions)\n",
    "# Error global\n",
    "error = 1 - rf_accuracy\n",
    "# Imprimir resultados\n",
    "print(\"Matriz de confusión:\")\n",
    "print(conf_matrix)\n",
    "print(\"\\nError global:\")\n",
    "print(error)\n",
    "\n",
    "print(f\"Random Forest Accuracy: {rf_accuracy}\")"
   ]
  },
  {
   "cell_type": "markdown",
   "id": "c7dbf02f",
   "metadata": {},
   "source": [
    "KNN"
   ]
  },
  {
   "cell_type": "code",
   "execution_count": 43,
   "id": "9929ab22",
   "metadata": {},
   "outputs": [
    {
     "name": "stdout",
     "output_type": "stream",
     "text": [
      "Matriz de confusión k-NN:\n",
      "[[18705  4582]\n",
      " [  725 22403]]\n",
      "\n",
      "Error global k-NN:\n",
      "0.017483037272435\n",
      "k-NN Accuracy: 0.9825169627275665\n"
     ]
    }
   ],
   "source": [
    "# k-NN\n",
    "knn_model = KNeighborsClassifier(n_neighbors=5)\n",
    "knn_model.fit(X_train_word2vec.tolist(), y_train)\n",
    "knn_predictions = knn_model.predict(X_test_word2vec.tolist())\n",
    "knn_accuracy = accuracy_score(y_test, knn_predictions)\n",
    "\n",
    "# Matriz de confusión\n",
    "conf_matrix_knn = confusion_matrix(y_test, knn_predictions)\n",
    "# Error global\n",
    "error_knn = 1 - knn_accuracy\n",
    "# Imprimir resultados\n",
    "print(\"Matriz de confusión k-NN:\")\n",
    "print(conf_matrix_knn)\n",
    "print(\"\\nError global k-NN:\")\n",
    "print(error_knn)\n",
    "\n",
    "\n",
    "print(f\"k-NN Accuracy: {knn_accuracy}\")"
   ]
  },
  {
   "cell_type": "markdown",
   "id": "723b001b",
   "metadata": {},
   "source": [
    "Adaboost"
   ]
  },
  {
   "cell_type": "code",
   "execution_count": 44,
   "id": "54d04250",
   "metadata": {},
   "outputs": [
    {
     "name": "stdout",
     "output_type": "stream",
     "text": [
      "Matriz de confusión AdaBoost:\n",
      "[[20958  2329]\n",
      " [ 1988 21140]]\n",
      "\n",
      "Precisión global AdaBoost:\n",
      "0.9505162743725089\n",
      "\n",
      "Error global AdaBoost:\n",
      "0.049483725627492\n",
      "AdaBoost Accuracy: 0.9505162743725089\n"
     ]
    }
   ],
   "source": [
    "# AdaBoost\n",
    "adaboost_model = AdaBoostClassifier(n_estimators=50, random_state=42)\n",
    "adaboost_model.fit(X_train_word2vec.tolist(), y_train)\n",
    "adaboost_predictions = adaboost_model.predict(X_test_word2vec.tolist())\n",
    "adaboost_accuracy = accuracy_score(y_test, adaboost_predictions)\n",
    "\n",
    "# Matriz de confusión\n",
    "conf_matrix_adaboost = confusion_matrix(y_test, adaboost_predictions)\n",
    "# Error global\n",
    "error_adaboost = 1 -adaboost_accuracy\n",
    "# Imprimir resultados\n",
    "print(\"Matriz de confusión AdaBoost:\")\n",
    "print(conf_matrix_adaboost)\n",
    "print(\"\\nPrecisión global AdaBoost:\")\n",
    "print(adaboost_accuracy)\n",
    "print(\"\\nError global AdaBoost:\")\n",
    "print(error_adaboost)\n",
    "print(f\"AdaBoost Accuracy: {adaboost_accuracy}\")"
   ]
  },
  {
   "cell_type": "markdown",
   "id": "93f17f98",
   "metadata": {},
   "source": [
    "Tabla comparativa de los modelos de machine learning"
   ]
  },
  {
   "cell_type": "code",
   "execution_count": 45,
   "id": "e4ac261b",
   "metadata": {},
   "outputs": [
    {
     "name": "stdout",
     "output_type": "stream",
     "text": [
      "Tabla Comparativa de Modelos:\n",
      "       Modelo  Precisión  Sensibilidad  Especificidad      FPR\n",
      "Random Forest   0.974551      0.912098       0.927427 0.072573\n",
      "         k-NN   0.982516      0.968653       0.803238 0.196762\n",
      "     AdaBoost   0.950516      0.914044       0.899987 0.100013\n"
     ]
    }
   ],
   "source": [
    "import pandas as pd\n",
    "\n",
    "# Crear un DataFrame con los resultados de cada modelo\n",
    "data = {\n",
    "    'Modelo': ['Random Forest', 'k-NN', 'AdaBoost'],\n",
    "    'Precisión': [rf_accuracy, knn_accuracy, adaboost_accuracy],\n",
    "    'Sensibilidad': [(conf_matrix[1, 1] / sum(conf_matrix[1, :])), (conf_matrix_knn[1, 1] / sum(conf_matrix_knn[1, :])), (conf_matrix_adaboost[1, 1] / sum(conf_matrix_adaboost[1, :]))],\n",
    "    'Especificidad': [(conf_matrix[0, 0] / sum(conf_matrix[0, :])), (conf_matrix_knn[0, 0] / sum(conf_matrix_knn[0, :])), (conf_matrix_adaboost[0, 0] / sum(conf_matrix_adaboost[0, :]))],\n",
    "    'FPR': [conf_matrix[0, 1] / sum(conf_matrix[0, :]), conf_matrix_knn[0, 1] / sum(conf_matrix_knn[0, :]), conf_matrix_adaboost[0, 1] / sum(conf_matrix_adaboost[0, :])],\n",
    "}\n",
    "\n",
    "df_resultados = pd.DataFrame(data)\n",
    "\n",
    "# Imprimir la tabla comparativa\n",
    "print(\"Tabla Comparativa de Modelos:\")\n",
    "print(df_resultados.to_string(index=False))\n"
   ]
  }
 ],
 "metadata": {
  "kernelspec": {
   "display_name": "Python 3 (ipykernel)",
   "language": "python",
   "name": "python3"
  },
  "language_info": {
   "codemirror_mode": {
    "name": "ipython",
    "version": 3
   },
   "file_extension": ".py",
   "mimetype": "text/x-python",
   "name": "python",
   "nbconvert_exporter": "python",
   "pygments_lexer": "ipython3",
   "version": "3.11.5"
  }
 },
 "nbformat": 4,
 "nbformat_minor": 5
}
